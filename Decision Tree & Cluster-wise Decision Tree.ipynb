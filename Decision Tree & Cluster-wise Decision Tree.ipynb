{
 "cells": [
  {
   "cell_type": "markdown",
   "metadata": {},
   "source": [
    "# Airbnb Price Prediction with Decision Tree & Cluster-wise Decision Trees"
   ]
  },
  {
   "cell_type": "markdown",
   "metadata": {},
   "source": [
    "#### Author: Xuan Lin (xxlin@uchicago.edu)"
   ]
  },
  {
   "cell_type": "markdown",
   "metadata": {},
   "source": [
    "<br>\n",
    "\n",
    "The project aims to predict the price of Airbnb listings in New York with the open dataset provided by the company. \n",
    "\n",
    "The focus of this project is not so much on achieving a higher $R^2$ through feature engineering but rather through attempting and tuning a variety of models, including an innovative cluster-wise decision trees algorithm that I coded from scratch.\n",
    "\n",
    "Since this is a regression problem, the evaluation metric is $R^2$.\n",
    "\n",
    "\n",
    "### Conclusions\n",
    "\n",
    "* A single decision tree achieves a $R^2$ of **0.5952**, while cluster-wise decision trees achives **0.74**. The latter, despite computationally expensive, is quite an effective algorithm that deserves further testing and development.\n",
    "\n",
    "\n",
    "* For single decision trees, spliting branches using `information` and `gini` only make slight difference in $R^2$ in this project, although it might be worthwhile to attempt both when using a different dataset.\n",
    "\n",
    "\n",
    "* The performance of cluster-wise decision trees largely depends on the predictability of the classifier. For mis-classified samples, the predictions are further off from the actual values than the mean.\n"
   ]
  },
  {
   "cell_type": "code",
   "execution_count": 2,
   "metadata": {},
   "outputs": [],
   "source": [
    "library(plyr)\n",
    "library(ggplot2)\n",
    "library(rpart)"
   ]
  },
  {
   "cell_type": "markdown",
   "metadata": {},
   "source": [
    "### Load Data"
   ]
  },
  {
   "cell_type": "code",
   "execution_count": 3,
   "metadata": {
    "scrolled": false
   },
   "outputs": [
    {
     "name": "stdout",
     "output_type": "stream",
     "text": [
      "[1] \"df Dimension: 50599\" \"df Dimension: 106\"  \n"
     ]
    }
   ],
   "source": [
    "# Load Airbnb listing price dataset\n",
    "path = '~/Airbnb/'\n",
    "df <- read.csv(paste0(path, 'listings.csv'))\n",
    "print(paste0(\"df Dimension: \", dim(df)))"
   ]
  },
  {
   "cell_type": "code",
   "execution_count": 4,
   "metadata": {},
   "outputs": [
    {
     "name": "stdout",
     "output_type": "stream",
     "text": [
      "[1] \"df Dimension: 50599\" \"df Dimension: 247\"  \n"
     ]
    }
   ],
   "source": [
    "# Load and combine features from CSV files generated beforehand\n",
    "new_features <- read.csv(paste0(path, 'listings_ft.csv')) # 10 columns\n",
    "amenities <- read.csv(paste0(path, 'amenities_df.csv')) # 136 columns\n",
    "df <- cbind(df, amenities[,-c(1:5)], new_features) # combine dataframe\n",
    "print(paste0(\"df Dimension: \", dim(df)))"
   ]
  },
  {
   "cell_type": "code",
   "execution_count": 5,
   "metadata": {},
   "outputs": [],
   "source": [
    "# The amenities considered \"important\" based on previous analysis on amenities\n",
    "imp_amenities <- c('Wifi','Heating','Essentials','Kitchen','Smokedetector','Airconditioning',\n",
    "                   'Carbonmonoxidedetector','TV','Shampoo','Hairdryer','Laptopfriendlyworkspace',\n",
    "                   'Iron','Washer','Dryer','Dishesandsilverware','Lockonbedroomdoor','Stove',\n",
    "                   'Firstaidkit','Oven','Freestreetparking','Cookingbasics','Coffeemaker',\n",
    "                   'Internet','Elevator','Family.kidfriendly','CableTV','Selfcheck.in',\n",
    "                   'Extrapillowsandblankets','Privateentrance','Longtermstaysallowed',\n",
    "                   'Buzzer.wirelessintercom','translationmissing.en.hosting_amenity_50',\n",
    "                   'Dishwasher','Hostgreetsyou','translationmissing.en.hosting_amenity_49',\n",
    "                   'Petsallowed','Lockbox','Gym','Paidparkingoffpremises','X24.hourcheck.in',\n",
    "                   'Bathtub','Patioorbalcony','Gardenorbackyard','Petsliveonthisproperty')"
   ]
  },
  {
   "cell_type": "markdown",
   "metadata": {},
   "source": [
    "### Data Cleaning"
   ]
  },
  {
   "cell_type": "code",
   "execution_count": 6,
   "metadata": {},
   "outputs": [],
   "source": [
    "# Remove '$' from price\n",
    "df$price = suppressWarnings(sapply(df$price, FUN = function(x) as.integer(sub(\",\", \"\", sub(\".\", \"\", x)))))\n",
    "                                   \n",
    "# Remove '%' from host_response_rate\n",
    "df$host_response_rate <- sapply(df$host_response_rate, FUN = function(x) as.integer(sub('%', '', '85%')))\n",
    "                                \n",
    "# Calculate differences between dates as features\n",
    "df$host_since_day = as.numeric(as.Date('2019-12-04', format=\"%Y-%m-%d\")-as.Date(df$host_since, format=\"%Y-%m-%d\"))\n",
    "df$first_review_day = as.numeric(as.Date('2019-12-04', format=\"%Y-%m-%d\")-as.Date(df$first_review, format=\"%Y-%m-%d\"))\n",
    "df$last_review_day = as.numeric(as.Date('2019-12-04', format=\"%Y-%m-%d\")-as.Date(df$last_review, format=\"%Y-%m-%d\"))\n",
    "                                \n",
    "# Remove '$' from extra people\n",
    "df$extra_people = suppressWarnings(sapply(df$extra_people, FUN = function(x) as.integer(sub(\",\", \"\", sub(\".\", \"\", x)))))"
   ]
  },
  {
   "cell_type": "code",
   "execution_count": 7,
   "metadata": {
    "scrolled": true
   },
   "outputs": [
    {
     "name": "stdout",
     "output_type": "stream",
     "text": [
      "[1] \"df Dimension: 39730\" \"df Dimension: 250\"  \n"
     ]
    }
   ],
   "source": [
    "# Eliminate outliers\n",
    "# The \"outliers\" are identified based on the exploratory analysis\n",
    "df <- df[df$number_of_reviews > 0,] # Number of Reviews > 0; 40379 samples\n",
    "df <- df[df$price <= 500, ]\n",
    "df <- df[df$price > 0, ]\n",
    "\n",
    "print(paste0(\"df Dimension: \", dim(df)))  # 39730 rows"
   ]
  },
  {
   "cell_type": "markdown",
   "metadata": {},
   "source": [
    "### Train-Test Split"
   ]
  },
  {
   "cell_type": "code",
   "execution_count": 8,
   "metadata": {},
   "outputs": [
    {
     "name": "stdout",
     "output_type": "stream",
     "text": [
      "[1] \"Train Set Dimension: 19787, 250\"\n",
      "[1] \"Test Set Dimension: 8481, 250\"\n"
     ]
    }
   ],
   "source": [
    "# 70% and 30% train-test split based on a set of listing IDs\n",
    "\n",
    "# Load train test ids\n",
    "train.id <- read.csv(paste0(path, 'train.csv'))\n",
    "train.id <- train.id$id\n",
    "test.id <- read.csv(paste0(path, 'test.csv'))\n",
    "test.id <- test.id$id\n",
    "\n",
    "# create train set and test set\n",
    "train.set <- df[df$id %in% train.id,]\n",
    "test.set <- df[df$id %in% test.id,]\n",
    "\n",
    "#print dimension\n",
    "print(paste0(\"Train Set Dimension: \", paste(dim(train.set), collapse = ', ')))\n",
    "print(paste0(\"Test Set Dimension: \", paste(dim(test.set), collapse = ', ')))"
   ]
  },
  {
   "cell_type": "markdown",
   "metadata": {},
   "source": [
    "### Evaluation Functions: $R^2$"
   ]
  },
  {
   "cell_type": "code",
   "execution_count": 9,
   "metadata": {},
   "outputs": [],
   "source": [
    "r2 <- function(pred.y, true.y){\n",
    "    sst = sum((true.y - mean(true.y))^2)\n",
    "    sse = sum((pred.y - true.y)^2)\n",
    "    #print(sst)\n",
    "    #print(sse)\n",
    "    return(1-sse/sst)\n",
    "    }"
   ]
  },
  {
   "cell_type": "markdown",
   "metadata": {},
   "source": [
    "### Features"
   ]
  },
  {
   "cell_type": "code",
   "execution_count": 10,
   "metadata": {},
   "outputs": [],
   "source": [
    "features = c('price', 'neighbourhood', 'host_since_day', 'host_location',\n",
    "            'host_response_time', 'host_is_superhost','host_neighbourhood',\n",
    "            'host_listings_count', \"host_total_listings_count\",\n",
    "            'host_has_profile_pic','host_identity_verified', 'street',\n",
    "            'neighbourhood_cleansed', 'neighbourhood_group_cleansed',\n",
    "            'city', 'zipcode', 'property_type', 'room_type', 'accommodates',\n",
    "            'bathrooms', 'bedrooms','beds', 'bed_type', 'square_feet',\n",
    "            'guests_included', 'extra_people', 'number_of_reviews',\n",
    "            'number_of_reviews_ltm', 'review_scores_rating', 'instant_bookable',\n",
    "            'cancellation_policy', 'require_guest_profile_picture',\n",
    "            'require_guest_phone_verification', 'calculated_host_listings_count',\n",
    "            'calculated_host_listings_count_entire_homes', 'calculated_host_listings_count_private_rooms',\n",
    "            'calculated_host_listings_count_shared_rooms', 'reviews_per_month',\n",
    "            'first_review_day', 'last_review_day'\n",
    "            )\n",
    "features <- c(features, imp_amenities)\n",
    "train.subset <- train.set[,match(features, colnames(train.set))]\n",
    "test.subset <- test.set[,match(features, colnames(test.set))]"
   ]
  },
  {
   "cell_type": "code",
   "execution_count": 11,
   "metadata": {
    "scrolled": true
   },
   "outputs": [
    {
     "name": "stdout",
     "output_type": "stream",
     "text": [
      "[1] \"Number of features: 84\"\n"
     ]
    }
   ],
   "source": [
    "print(paste0(\"Number of features: \", length(features)))"
   ]
  },
  {
   "cell_type": "markdown",
   "metadata": {},
   "source": [
    "# Single Decision Tree"
   ]
  },
  {
   "cell_type": "markdown",
   "metadata": {},
   "source": [
    "* Build a full decision tree \n",
    "\n",
    "* cross validation\n",
    "\n",
    "* select the best cp"
   ]
  },
  {
   "cell_type": "markdown",
   "metadata": {},
   "source": [
    "#### Spliting method using Gini index"
   ]
  },
  {
   "cell_type": "code",
   "execution_count": 12,
   "metadata": {},
   "outputs": [],
   "source": [
    "# Construct a tree model\n",
    "gini.tree.model <- rpart(price~., data = train.subset, method = 'anova',\n",
    "                   minsplit = 30, cp = 0, xval = 10, parms=list(split=\"gini\"))\n",
    "cptable <- gini.tree.model$cptable  # Save the parameter complexity table\n",
    "\n",
    "# Aggressive Approach\n",
    "gini.agg.best.cp <- cptable[which.min(cptable[,4]), 1]\n",
    "gini.agg.cv.r2 <- 1-cptable[which.min(cptable[,4]), c(3,4)]\n",
    "gini.agg.test.r2 <- r2(predict(prune(gini.tree.model, cp = gini.agg.best.cp), test.subset), test.subset$price)\n",
    "\n",
    "# Conservative Approach\n",
    "max.error.allowed <- sum(cptable[which.min(cptable[,4]),c(4, 5)])\n",
    "acceptable.cp <- cptable[cptable[,4] < max.error.allowed,]\n",
    "gini.con.best.cp <- acceptable.cp[1,1]\n",
    "gini.con.cv.r2 <- 1-acceptable.cp[1,c(3,4)]\n",
    "gini.con.test.r2 <- r2(predict(prune(gini.tree.model, cp = gini.con.best.cp), test.subset), test.subset$price)"
   ]
  },
  {
   "cell_type": "markdown",
   "metadata": {},
   "source": [
    "#### Spliting method being information"
   ]
  },
  {
   "cell_type": "code",
   "execution_count": 13,
   "metadata": {},
   "outputs": [],
   "source": [
    "# Construct a tree model\n",
    "inf.tree.model <- rpart(price~., data = train.subset, method = 'anova',\n",
    "                   minsplit = 30, cp = 0, xval = 10, parms=list(split=\"information\"))\n",
    "cptable <- inf.tree.model$cptable  # Save the parameter complexity table\n",
    "\n",
    "# Aggressive Approach\n",
    "inf.agg.best.cp <- cptable[which.min(cptable[,4]), 1]\n",
    "inf.agg.cv.r2 <- 1-cptable[which.min(cptable[,4]), c(3,4)]\n",
    "inf.agg.test.r2 <- r2(predict(prune(inf.tree.model, cp = inf.agg.best.cp), test.subset), test.subset$price)\n",
    "\n",
    "# Conservative Approach\n",
    "max.error.allowed <- sum(cptable[which.min(cptable[,4]),c(4, 5)])\n",
    "acceptable.cp <- cptable[cptable[,4] < max.error.allowed,]\n",
    "inf.con.best.cp <- acceptable.cp[1,1]\n",
    "inf.con.cv.r2 <- 1-acceptable.cp[1,c(3,4)]\n",
    "inf.con.test.r2 <- r2(predict(prune(inf.tree.model, cp = inf.con.best.cp), test.subset), test.subset$price)"
   ]
  },
  {
   "cell_type": "markdown",
   "metadata": {},
   "source": [
    "#### Aggregate and compare model $R^2$s"
   ]
  },
  {
   "cell_type": "code",
   "execution_count": 14,
   "metadata": {},
   "outputs": [
    {
     "data": {
      "text/html": [
       "<table>\n",
       "<thead><tr><th></th><th scope=col>Gini.Agg</th><th scope=col>Gini.Con</th><th scope=col>Inf.Agg</th><th scope=col>Inf.Con</th></tr></thead>\n",
       "<tbody>\n",
       "\t<tr><th scope=row>Train</th><td>0.6887316</td><td>0.6619677</td><td>0.6895734</td><td>0.6619677</td></tr>\n",
       "\t<tr><th scope=row>C.V.</th><td>0.6069503</td><td>0.5997791</td><td>0.6123351</td><td>0.6048021</td></tr>\n",
       "\t<tr><th scope=row>Test</th><td>0.5960515</td><td>0.5923208</td><td>0.5954799</td><td>0.5923208</td></tr>\n",
       "</tbody>\n",
       "</table>\n"
      ],
      "text/latex": [
       "\\begin{tabular}{r|llll}\n",
       "  & Gini.Agg & Gini.Con & Inf.Agg & Inf.Con\\\\\n",
       "\\hline\n",
       "\tTrain & 0.6887316 & 0.6619677 & 0.6895734 & 0.6619677\\\\\n",
       "\tC.V. & 0.6069503 & 0.5997791 & 0.6123351 & 0.6048021\\\\\n",
       "\tTest & 0.5960515 & 0.5923208 & 0.5954799 & 0.5923208\\\\\n",
       "\\end{tabular}\n"
      ],
      "text/markdown": [
       "\n",
       "| <!--/--> | Gini.Agg | Gini.Con | Inf.Agg | Inf.Con | \n",
       "|---|---|---|\n",
       "| Train | 0.6887316 | 0.6619677 | 0.6895734 | 0.6619677 | \n",
       "| C.V. | 0.6069503 | 0.5997791 | 0.6123351 | 0.6048021 | \n",
       "| Test | 0.5960515 | 0.5923208 | 0.5954799 | 0.5923208 | \n",
       "\n",
       "\n"
      ],
      "text/plain": [
       "      Gini.Agg  Gini.Con  Inf.Agg   Inf.Con  \n",
       "Train 0.6887316 0.6619677 0.6895734 0.6619677\n",
       "C.V.  0.6069503 0.5997791 0.6123351 0.6048021\n",
       "Test  0.5960515 0.5923208 0.5954799 0.5923208"
      ]
     },
     "metadata": {},
     "output_type": "display_data"
    }
   ],
   "source": [
    "eval_df <- matrix(nrow = 3,ncol = 4)\n",
    "colnames(eval_df) <- c(\"Gini.Agg\", \"Gini.Con\", \"Inf.Agg\", \"Inf.Con\")\n",
    "rownames(eval_df) <- c(\"Train\", \"C.V.\", \"Test\")\n",
    "eval_df[,1] <- c(gini.agg.cv.r2, gini.agg.test.r2)\n",
    "eval_df[,2] <- c(gini.con.cv.r2, gini.con.test.r2)\n",
    "eval_df[,3] <- c(inf.agg.cv.r2, inf.agg.test.r2)\n",
    "eval_df[,4] <- c(inf.con.cv.r2, inf.con.test.r2)\n",
    "eval_df"
   ]
  },
  {
   "cell_type": "code",
   "execution_count": 15,
   "metadata": {
    "scrolled": false
   },
   "outputs": [
    {
     "data": {
      "image/png": "[encoded data removed]",
      "text/plain": [
       "Plot with title “R2 Comparison”"
      ]
     },
     "metadata": {},
     "output_type": "display_data"
    }
   ],
   "source": [
    "options(repr.plot.width = 6, repr.plot.height = 4, cex = 0.5)\n",
    "plot(eval_df[,1], ylim = c(.5,.75), main = \"R2 Comparison\", type = 'l',\n",
    "    cex.lab = .8, cex.axis = .8, cex.main = .8)\n",
    "lines(eval_df[,2], col = \"blue\")\n",
    "lines(eval_df[,3], col = \"green\")\n",
    "lines(eval_df[,4], col = \"red\")\n",
    "legend(\"topright\", legend = c(\"Gini.Agg\", \"Gini.Con\", \"Inf.Agg\", \"Inf.Con\"), \n",
    "       col = c(\"black\", \"blue\", \"green\", \"red\"), lty = 1, lwd = 3, cex = 0.8,y.intersp=2.5, text.width = .4)"
   ]
  },
  {
   "cell_type": "code",
   "execution_count": null,
   "metadata": {},
   "outputs": [],
   "source": [
    "Given t"
   ]
  },
  {
   "cell_type": "code",
   "execution_count": 177,
   "metadata": {},
   "outputs": [
    {
     "data": {
      "text/html": [
       "<dl class=dl-horizontal>\n",
       "\t<dt>room_type</dt>\n",
       "\t\t<dd>49837136.2238324</dd>\n",
       "\t<dt>calculated_host_listings_count_private_rooms</dt>\n",
       "\t\t<dd>44175935.3764353</dd>\n",
       "\t<dt>calculated_host_listings_count_entire_homes</dt>\n",
       "\t\t<dd>43000903.0930712</dd>\n",
       "\t<dt>accommodates</dt>\n",
       "\t\t<dd>34176305.7943218</dd>\n",
       "\t<dt>zipcode</dt>\n",
       "\t\t<dd>24615706.5283838</dd>\n",
       "\t<dt>beds</dt>\n",
       "\t\t<dd>23087204.982969</dd>\n",
       "\t<dt>neighbourhood_cleansed</dt>\n",
       "\t\t<dd>21925806.3245673</dd>\n",
       "\t<dt>host_neighbourhood</dt>\n",
       "\t\t<dd>20268592.5814339</dd>\n",
       "\t<dt>guests_included</dt>\n",
       "\t\t<dd>18854914.7367573</dd>\n",
       "\t<dt>bedrooms</dt>\n",
       "\t\t<dd>17163680.9809724</dd>\n",
       "\t<dt>neighbourhood</dt>\n",
       "\t\t<dd>16377118.7724258</dd>\n",
       "\t<dt>street</dt>\n",
       "\t\t<dd>10238139.2869406</dd>\n",
       "\t<dt>city</dt>\n",
       "\t\t<dd>7579385.9105434</dd>\n",
       "\t<dt>bathrooms</dt>\n",
       "\t\t<dd>5843519.12727283</dd>\n",
       "\t<dt>host_location</dt>\n",
       "\t\t<dd>4986153.74579728</dd>\n",
       "\t<dt>neighbourhood_group_cleansed</dt>\n",
       "\t\t<dd>2549124.27407417</dd>\n",
       "\t<dt>property_type</dt>\n",
       "\t\t<dd>1849249.24583695</dd>\n",
       "\t<dt>host_listings_count</dt>\n",
       "\t\t<dd>581797.581281908</dd>\n",
       "\t<dt>host_since_day</dt>\n",
       "\t\t<dd>420111.340084031</dd>\n",
       "\t<dt>calculated_host_listings_count</dt>\n",
       "\t\t<dd>409280.842708803</dd>\n",
       "</dl>\n"
      ],
      "text/latex": [
       "\\begin{description*}\n",
       "\\item[room\\textbackslash{}\\_type] 49837136.2238324\n",
       "\\item[calculated\\textbackslash{}\\_host\\textbackslash{}\\_listings\\textbackslash{}\\_count\\textbackslash{}\\_private\\textbackslash{}\\_rooms] 44175935.3764353\n",
       "\\item[calculated\\textbackslash{}\\_host\\textbackslash{}\\_listings\\textbackslash{}\\_count\\textbackslash{}\\_entire\\textbackslash{}\\_homes] 43000903.0930712\n",
       "\\item[accommodates] 34176305.7943218\n",
       "\\item[zipcode] 24615706.5283838\n",
       "\\item[beds] 23087204.982969\n",
       "\\item[neighbourhood\\textbackslash{}\\_cleansed] 21925806.3245673\n",
       "\\item[host\\textbackslash{}\\_neighbourhood] 20268592.5814339\n",
       "\\item[guests\\textbackslash{}\\_included] 18854914.7367573\n",
       "\\item[bedrooms] 17163680.9809724\n",
       "\\item[neighbourhood] 16377118.7724258\n",
       "\\item[street] 10238139.2869406\n",
       "\\item[city] 7579385.9105434\n",
       "\\item[bathrooms] 5843519.12727283\n",
       "\\item[host\\textbackslash{}\\_location] 4986153.74579728\n",
       "\\item[neighbourhood\\textbackslash{}\\_group\\textbackslash{}\\_cleansed] 2549124.27407417\n",
       "\\item[property\\textbackslash{}\\_type] 1849249.24583695\n",
       "\\item[host\\textbackslash{}\\_listings\\textbackslash{}\\_count] 581797.581281908\n",
       "\\item[host\\textbackslash{}\\_since\\textbackslash{}\\_day] 420111.340084031\n",
       "\\item[calculated\\textbackslash{}\\_host\\textbackslash{}\\_listings\\textbackslash{}\\_count] 409280.842708803\n",
       "\\end{description*}\n"
      ],
      "text/markdown": [
       "room_type\n",
       ":   49837136.2238324calculated_host_listings_count_private_rooms\n",
       ":   44175935.3764353calculated_host_listings_count_entire_homes\n",
       ":   43000903.0930712accommodates\n",
       ":   34176305.7943218zipcode\n",
       ":   24615706.5283838beds\n",
       ":   23087204.982969neighbourhood_cleansed\n",
       ":   21925806.3245673host_neighbourhood\n",
       ":   20268592.5814339guests_included\n",
       ":   18854914.7367573bedrooms\n",
       ":   17163680.9809724neighbourhood\n",
       ":   16377118.7724258street\n",
       ":   10238139.2869406city\n",
       ":   7579385.9105434bathrooms\n",
       ":   5843519.12727283host_location\n",
       ":   4986153.74579728neighbourhood_group_cleansed\n",
       ":   2549124.27407417property_type\n",
       ":   1849249.24583695host_listings_count\n",
       ":   581797.581281908host_since_day\n",
       ":   420111.340084031calculated_host_listings_count\n",
       ":   409280.842708803\n",
       "\n"
      ],
      "text/plain": [
       "                                   room_type \n",
       "                                  49837136.2 \n",
       "calculated_host_listings_count_private_rooms \n",
       "                                  44175935.4 \n",
       " calculated_host_listings_count_entire_homes \n",
       "                                  43000903.1 \n",
       "                                accommodates \n",
       "                                  34176305.8 \n",
       "                                     zipcode \n",
       "                                  24615706.5 \n",
       "                                        beds \n",
       "                                  23087205.0 \n",
       "                      neighbourhood_cleansed \n",
       "                                  21925806.3 \n",
       "                          host_neighbourhood \n",
       "                                  20268592.6 \n",
       "                             guests_included \n",
       "                                  18854914.7 \n",
       "                                    bedrooms \n",
       "                                  17163681.0 \n",
       "                               neighbourhood \n",
       "                                  16377118.8 \n",
       "                                      street \n",
       "                                  10238139.3 \n",
       "                                        city \n",
       "                                   7579385.9 \n",
       "                                   bathrooms \n",
       "                                   5843519.1 \n",
       "                               host_location \n",
       "                                   4986153.7 \n",
       "                neighbourhood_group_cleansed \n",
       "                                   2549124.3 \n",
       "                               property_type \n",
       "                                   1849249.2 \n",
       "                         host_listings_count \n",
       "                                    581797.6 \n",
       "                              host_since_day \n",
       "                                    420111.3 \n",
       "              calculated_host_listings_count \n",
       "                                    409280.8 "
      ]
     },
     "metadata": {},
     "output_type": "display_data"
    }
   ],
   "source": [
    "head(prune(gini.tree.model, cp = gini.agg.best.cp)$variable.importance,20)"
   ]
  },
  {
   "cell_type": "code",
   "execution_count": 242,
   "metadata": {},
   "outputs": [],
   "source": [
    "# save tree model result\n",
    "write.csv(cbind(id = test.set$id, pred.price = y.pred), \n",
    "          paste0(path, 'decisiontree_prediction.csv'), \n",
    "          row.names = FALSE)"
   ]
  },
  {
   "cell_type": "markdown",
   "metadata": {},
   "source": [
    "# Cluster-Wise Decision Trees"
   ]
  },
  {
   "cell_type": "markdown",
   "metadata": {},
   "source": [
    "In this project, I explored the cluster-wise decision trees algorithm based on 2 clusters. The flow chart below demonstrates how the algorithm works.\n",
    "\n",
    "The algorithm goes through an E-M clustering process to iteratively train two decision tree regressors, in order to maximize the train set $R^2$. The the algorithm produces two outcomes--cluster labels and one regressor for each cluster. Then I trained a decision tree classifier against the resulting cluster labels and assigned the test set samples into the two classes with this classifier. Finally, the test set samples are fed into the regressors with respect to their belonging classes to produce the predicted price.\n",
    "\n",
    "The train set $R^2$ is calculated with 10-fold cross-validations, given that the Airbnb dataset is not adequately large. In addition, since decision trees are prone to overfit, the algorithm has a built-in tree pruning function, which tunes the complexity parameter `cp` so that the cross-validation $R^2$ is maximized."
   ]
  },
  {
   "cell_type": "markdown",
   "metadata": {},
   "source": [
    "<img src=\"https://github.com/xuanamylin/airbnb-price-pred/blob/master/cluster-wise-decision-trees-demo.png?raw=true\" width=\"300\"/>"
   ]
  },
  {
   "cell_type": "markdown",
   "metadata": {},
   "source": [
    "#### Strengths:\n",
    "\n",
    "* Highly effective compared to a single decision and random forests\n",
    "* The classification of samples offers analytical insights into the dataset\n",
    "\n",
    "#### Weaknesses:\n",
    "\n",
    "* Prolonged training time\n",
    "* Requires parameter tuning and feature selection to achieve optimal result. The predictability of the classifier is especially important.\n"
   ]
  },
  {
   "cell_type": "markdown",
   "metadata": {},
   "source": [
    "##### Algorithm Functions"
   ]
  },
  {
   "cell_type": "code",
   "execution_count": 9,
   "metadata": {},
   "outputs": [],
   "source": [
    "library(clusdec)"
   ]
  },
  {
   "cell_type": "markdown",
   "metadata": {},
   "source": [
    "This algorithm is built into a package (work in progress), which constains 3 core functions.\n",
    "\n",
    "* `clustreg`: cluster-wise decision trees training model, which repeats the E-M process to train decision tree regressors\n",
    "\n",
    "\n",
    "* `clustreg.pred`: cluster-wise decision trees prediction function that takes in regressors and predicted class labels.\n",
    "\n",
    "\n",
    "* `clustreg.predict`: outputs the ideal test set class labels and the best test set R^2 possible, based on the regressor and a known response variable"
   ]
  },
  {
   "cell_type": "markdown",
   "metadata": {},
   "source": [
    "##### Model Building"
   ]
  },
  {
   "cell_type": "code",
   "execution_count": 178,
   "metadata": {
    "scrolled": false
   },
   "outputs": [
    {
     "name": "stdout",
     "output_type": "stream",
     "text": [
      "[1] \"1 try, 1 iteration, cluster 1, tree training\"\n",
      "[1] \"1 try, 1 iteration, cluster 2, tree training\"\n",
      "[1] \"1 try, 2 iteration, cluster 1, tree training\"\n",
      "[1] \"1 try, 2 iteration, cluster 2, tree training\"\n",
      "[1] \"1 try, 3 iteration, cluster 1, tree training\"\n",
      "[1] \"1 try, 3 iteration, cluster 2, tree training\"\n",
      "[1] \"1 try, 4 iteration, cluster 1, tree training\"\n",
      "[1] \"1 try, 4 iteration, cluster 2, tree training\"\n",
      "[1] \"1 try, 5 iteration, cluster 1, tree training\"\n",
      "[1] \"1 try, 5 iteration, cluster 2, tree training\"\n",
      "[1] \"1 try, 6 iteration, cluster 1, tree training\"\n",
      "[1] \"1 try, 6 iteration, cluster 2, tree training\"\n",
      "[1] \"1 try, 7 iteration, cluster 1, tree training\"\n",
      "[1] \"1 try, 7 iteration, cluster 2, tree training\"\n",
      "[1] \"1 try, 8 iteration, cluster 1, tree training\"\n",
      "[1] \"1 try, 8 iteration, cluster 2, tree training\"\n",
      "[1] \"1 try, 9 iteration, cluster 1, tree training\"\n",
      "[1] \"1 try, 9 iteration, cluster 2, tree training\"\n",
      "[1] \"1 try, 10 iteration, cluster 1, tree training\"\n",
      "[1] \"1 try, 10 iteration, cluster 2, tree training\"\n",
      "[1] \"1 try, 11 iteration, cluster 1, tree training\"\n",
      "[1] \"1 try, 11 iteration, cluster 2, tree training\"\n",
      "[1] \"1 try, 12 iteration, cluster 1, tree training\"\n",
      "[1] \"1 try, 12 iteration, cluster 2, tree training\"\n",
      "[1] \"1 try, 13 iteration, cluster 1, tree training\"\n",
      "[1] \"1 try, 13 iteration, cluster 2, tree training\"\n",
      "[1] \"1 try, 14 iteration, cluster 1, tree training\"\n",
      "[1] \"1 try, 14 iteration, cluster 2, tree training\"\n",
      "[1] \"1 try, 15 iteration, cluster 1, tree training\"\n",
      "[1] \"1 try, 15 iteration, cluster 2, tree training\"\n",
      "[1] \"1 try, 16 iteration, cluster 1, tree training\"\n",
      "[1] \"1 try, 16 iteration, cluster 2, tree training\"\n",
      "[1] \"1 try, 17 iteration, cluster 1, tree training\"\n",
      "[1] \"1 try, 17 iteration, cluster 2, tree training\"\n",
      "[1] \"1 try, 18 iteration, cluster 1, tree training\"\n",
      "[1] \"1 try, 18 iteration, cluster 2, tree training\"\n",
      "[1] \"1 try, 19 iteration, cluster 1, tree training\"\n",
      "[1] \"1 try, 19 iteration, cluster 2, tree training\"\n",
      "[1] \"1 try, 20 iteration, cluster 1, tree training\"\n",
      "[1] \"1 try, 20 iteration, cluster 2, tree training\"\n",
      "[1] \"1 try, 21 iteration, cluster 1, tree training\"\n",
      "[1] \"1 try, 21 iteration, cluster 2, tree training\"\n",
      "[1] \"1 try, 22 iteration, cluster 1, tree training\"\n",
      "[1] \"1 try, 22 iteration, cluster 2, tree training\"\n",
      "[1] \"1 try, 23 iteration, cluster 1, tree training\"\n",
      "[1] \"1 try, 23 iteration, cluster 2, tree training\"\n",
      "[1] \"1 try, 24 iteration, cluster 1, tree training\"\n",
      "[1] \"1 try, 24 iteration, cluster 2, tree training\"\n",
      "[1] \"1 try, 25 iteration, cluster 1, tree training\"\n",
      "[1] \"1 try, 25 iteration, cluster 2, tree training\"\n",
      "[1] \"2 try, 1 iteration, cluster 1, tree training\"\n",
      "[1] \"2 try, 1 iteration, cluster 2, tree training\"\n",
      "[1] \"2 try, 2 iteration, cluster 1, tree training\"\n",
      "[1] \"2 try, 2 iteration, cluster 2, tree training\"\n",
      "[1] \"2 try, 3 iteration, cluster 1, tree training\"\n",
      "[1] \"2 try, 3 iteration, cluster 2, tree training\"\n",
      "[1] \"2 try, 4 iteration, cluster 1, tree training\"\n",
      "[1] \"2 try, 4 iteration, cluster 2, tree training\"\n",
      "[1] \"2 try, 5 iteration, cluster 1, tree training\"\n",
      "[1] \"2 try, 5 iteration, cluster 2, tree training\"\n",
      "[1] \"2 try, 6 iteration, cluster 1, tree training\"\n",
      "[1] \"2 try, 6 iteration, cluster 2, tree training\"\n",
      "[1] \"2 try, 7 iteration, cluster 1, tree training\"\n",
      "[1] \"2 try, 7 iteration, cluster 2, tree training\"\n",
      "[1] \"2 try, 8 iteration, cluster 1, tree training\"\n",
      "[1] \"2 try, 8 iteration, cluster 2, tree training\"\n",
      "[1] \"2 try, 9 iteration, cluster 1, tree training\"\n",
      "[1] \"2 try, 9 iteration, cluster 2, tree training\"\n",
      "[1] \"2 try, 10 iteration, cluster 1, tree training\"\n",
      "[1] \"2 try, 10 iteration, cluster 2, tree training\"\n",
      "[1] \"2 try, 11 iteration, cluster 1, tree training\"\n",
      "[1] \"2 try, 11 iteration, cluster 2, tree training\"\n",
      "[1] \"2 try, 12 iteration, cluster 1, tree training\"\n",
      "[1] \"2 try, 12 iteration, cluster 2, tree training\"\n",
      "[1] \"2 try, 13 iteration, cluster 1, tree training\"\n",
      "[1] \"2 try, 13 iteration, cluster 2, tree training\"\n",
      "[1] \"2 try, 14 iteration, cluster 1, tree training\"\n",
      "[1] \"2 try, 14 iteration, cluster 2, tree training\"\n",
      "[1] \"2 try, 15 iteration, cluster 1, tree training\"\n",
      "[1] \"2 try, 15 iteration, cluster 2, tree training\"\n",
      "[1] \"2 try, 16 iteration, cluster 1, tree training\"\n",
      "[1] \"2 try, 16 iteration, cluster 2, tree training\"\n",
      "[1] \"2 try, 17 iteration, cluster 1, tree training\"\n",
      "[1] \"2 try, 17 iteration, cluster 2, tree training\"\n",
      "[1] \"2 try, 18 iteration, cluster 1, tree training\"\n",
      "[1] \"2 try, 18 iteration, cluster 2, tree training\"\n",
      "[1] \"2 try, 19 iteration, cluster 1, tree training\"\n",
      "[1] \"2 try, 19 iteration, cluster 2, tree training\"\n",
      "[1] \"2 try, 20 iteration, cluster 1, tree training\"\n",
      "[1] \"2 try, 20 iteration, cluster 2, tree training\"\n",
      "[1] \"2 try, 21 iteration, cluster 1, tree training\"\n",
      "[1] \"2 try, 21 iteration, cluster 2, tree training\"\n",
      "[1] \"2 try, 22 iteration, cluster 1, tree training\"\n",
      "[1] \"2 try, 22 iteration, cluster 2, tree training\"\n",
      "[1] \"2 try, 23 iteration, cluster 1, tree training\"\n",
      "[1] \"2 try, 23 iteration, cluster 2, tree training\"\n",
      "[1] \"2 try, 24 iteration, cluster 1, tree training\"\n",
      "[1] \"2 try, 24 iteration, cluster 2, tree training\"\n",
      "[1] \"2 try, 25 iteration, cluster 1, tree training\"\n",
      "[1] \"2 try, 25 iteration, cluster 2, tree training\"\n",
      "[1] \"Finalizing Models...\"\n"
     ]
    }
   ],
   "source": [
    "# Train Model\n",
    "cr.2 <- clustreg(train.subset, k=2, tries = 2, sed = 2020, niter = 25, cp.conservative = TRUE)"
   ]
  },
  {
   "cell_type": "code",
   "execution_count": 179,
   "metadata": {
    "scrolled": true
   },
   "outputs": [
    {
     "data": {
      "text/html": [
       "0.842678086959107"
      ],
      "text/latex": [
       "0.842678086959107"
      ],
      "text/markdown": [
       "0.842678086959107"
      ],
      "text/plain": [
       "[1] 0.8426781"
      ]
     },
     "metadata": {},
     "output_type": "display_data"
    }
   ],
   "source": [
    "# Train R2 (Overall)\n",
    "cr.2$rsq"
   ]
  },
  {
   "cell_type": "code",
   "execution_count": 180,
   "metadata": {},
   "outputs": [
    {
     "data": {
      "text/html": [
       "0.816364587268545"
      ],
      "text/latex": [
       "0.816364587268545"
      ],
      "text/markdown": [
       "0.816364587268545"
      ],
      "text/plain": [
       "[1] 0.8163646"
      ]
     },
     "metadata": {},
     "output_type": "display_data"
    }
   ],
   "source": [
    "# Ideal Test Set R2\n",
    "# This the best possible performance on the test set, given the regressors\n",
    "cr.pred.2 <- clustreg.predict(cr.2, test.subset)\n",
    "cr.pred.2$rsq"
   ]
  },
  {
   "cell_type": "code",
   "execution_count": 181,
   "metadata": {},
   "outputs": [],
   "source": [
    "# Build classifier\n",
    "\n",
    "features = c('price', 'neighbourhood', 'host_since_day', 'host_location',\n",
    "            'host_response_time', 'host_is_superhost','host_neighbourhood',\n",
    "            'host_listings_count', \"host_total_listings_count\",\n",
    "            'host_has_profile_pic','host_identity_verified', 'street',\n",
    "            'neighbourhood_cleansed', 'neighbourhood_group_cleansed',\n",
    "            'city', 'zipcode', 'property_type', 'room_type', 'accommodates',\n",
    "            'bathrooms', 'bedrooms','beds', 'bed_type', 'square_feet',\n",
    "            'guests_included', 'extra_people', 'number_of_reviews',\n",
    "            'number_of_reviews_ltm', 'review_scores_rating', 'instant_bookable',\n",
    "            'cancellation_policy', 'require_guest_profile_picture',\n",
    "            'require_guest_phone_verification', 'calculated_host_listings_count',\n",
    "            'calculated_host_listings_count_entire_homes', 'calculated_host_listings_count_private_rooms',\n",
    "            'calculated_host_listings_count_shared_rooms', 'reviews_per_month',\n",
    "            'first_review_day', 'last_review_day'\n",
    "            )\n",
    "class.features <- c(features, imp_amenities)\n",
    "class.train.subset <- train.set[,match(class.features, colnames(train.set))]\n",
    "class.test.subset <- test.set[,match(class.features, colnames(test.set))]\n",
    "\n",
    "tree.classifier <- rpart(cluster~., data = cbind(class.train.subset, cluster = cr.2$cluster-1), \n",
    "                         method = 'class',xval = 12, cp = 0, minsplit = 0, parms=list(split=\"information\"))\n",
    "cptable <- tree.classifier$cptable\n",
    "\n",
    "# Parameter tuning\n",
    "# Method 1: Conservative\n",
    "#max.error.allowed <- sum(cptable[which.min(cptable[,4]),c(4, 5)])\n",
    "#acceptable.cp <- cptable[cptable[,4] < max.error.allowed,]\n",
    "#best.cp <- acceptable.cp[1,1]\n",
    "\n",
    "# Method 2: Agressive\n",
    "best.cp <- cptable[which.min(cptable[,4]), 1]\n",
    "\n",
    "tree.classifier <- rpart(cluster~., data = cbind(class.train.subset, cluster = cr.2$cluster-1), method = 'class',xval = 12,\n",
    "                        cp = best.cp)"
   ]
  },
  {
   "cell_type": "code",
   "execution_count": 207,
   "metadata": {},
   "outputs": [
    {
     "name": "stdout",
     "output_type": "stream",
     "text": [
      "[1] \"Train Class Acc: 0.977055642593622\"\n",
      "[1] \"Test Class Acc: 0.947765593679991\"\n"
     ]
    }
   ],
   "source": [
    "# Classifier Accuracy\n",
    "tree.class.train <- as.integer(predict(tree.classifier, type = 'class'))\n",
    "tree.class.test <- as.integer(predict(tree.classifier, newdata = class.test.subset, type = 'class'))\n",
    "print(paste0(\"Train Class Acc: \", sum(tree.class.train == (cr.2$cluster)) / dim(train.subset)[1]))\n",
    "print(paste0(\"Test Class Acc: \", sum(tree.class.test == cr.pred.2$cluster)/dim(test.subset)[1]))"
   ]
  },
  {
   "cell_type": "markdown",
   "metadata": {},
   "source": [
    "The classifier is in fact quite predictive, with only about 5% misclassifications on the test set."
   ]
  },
  {
   "cell_type": "markdown",
   "metadata": {},
   "source": [
    "##### Test Set Price Prediction"
   ]
  },
  {
   "cell_type": "code",
   "execution_count": 184,
   "metadata": {
    "scrolled": false
   },
   "outputs": [
    {
     "data": {
      "text/html": [
       "0.734378839344146"
      ],
      "text/latex": [
       "0.734378839344146"
      ],
      "text/markdown": [
       "0.734378839344146"
      ],
      "text/plain": [
       "[1] 0.7343788"
      ]
     },
     "metadata": {},
     "output_type": "display_data"
    }
   ],
   "source": [
    "# Predict for the test set\n",
    "tree.class.test <- as.integer(predict(tree.classifier, newdata = test.subset, type = 'class'))\n",
    "tree.pred <- clustreg.pred(cr.2, test.subset, tree.class.test)\n",
    "tree.pred$rsq"
   ]
  },
  {
   "cell_type": "markdown",
   "metadata": {},
   "source": [
    "The cluster-wise decision trees are able to achieve a **0.7343** $R^2$, which is a significant improvement from the **0.5952** $R^2$ of the single decisin tree."
   ]
  },
  {
   "cell_type": "markdown",
   "metadata": {},
   "source": [
    "##### Brief Analysis on Model Performance"
   ]
  },
  {
   "cell_type": "markdown",
   "metadata": {},
   "source": [
    "Calculate the $R^2$ of the two regressors on their respective classes, for both the train and the test set. It is fair to conclude that the test performance doesn't quite match up with the train performance. This is largely due to the misclassifications."
   ]
  },
  {
   "cell_type": "code",
   "execution_count": 211,
   "metadata": {
    "scrolled": true
   },
   "outputs": [
    {
     "data": {
      "text/html": [
       "0.877652505663526"
      ],
      "text/latex": [
       "0.877652505663526"
      ],
      "text/markdown": [
       "0.877652505663526"
      ],
      "text/plain": [
       "[1] 0.8776525"
      ]
     },
     "metadata": {},
     "output_type": "display_data"
    },
    {
     "data": {
      "text/html": [
       "0.753015161761279"
      ],
      "text/latex": [
       "0.753015161761279"
      ],
      "text/markdown": [
       "0.753015161761279"
      ],
      "text/plain": [
       "[1] 0.7530152"
      ]
     },
     "metadata": {},
     "output_type": "display_data"
    }
   ],
   "source": [
    "# Training set accuracy by regressor\n",
    "r2(cr.2.train.pred$yhat[cr.2$cluster == 1], train.subset$price[cr.2$cluster == 1])\n",
    "r2(cr.2.train.pred$yhat[cr.2$cluster == 2], train.subset$price[cr.2$cluster == 2])"
   ]
  },
  {
   "cell_type": "code",
   "execution_count": 212,
   "metadata": {
    "scrolled": true
   },
   "outputs": [
    {
     "data": {
      "text/html": [
       "0.741714801575437"
      ],
      "text/latex": [
       "0.741714801575437"
      ],
      "text/markdown": [
       "0.741714801575437"
      ],
      "text/plain": [
       "[1] 0.7417148"
      ]
     },
     "metadata": {},
     "output_type": "display_data"
    },
    {
     "data": {
      "text/html": [
       "0.66116676930031"
      ],
      "text/latex": [
       "0.66116676930031"
      ],
      "text/markdown": [
       "0.66116676930031"
      ],
      "text/plain": [
       "[1] 0.6611668"
      ]
     },
     "metadata": {},
     "output_type": "display_data"
    }
   ],
   "source": [
    "# Test set accuracy by regressor\n",
    "r2(tree.pred$yhat[tree.class.test == 1], test.subset$price[tree.class.test == 1])\n",
    "r2(tree.pred$yhat[tree.class.test == 2], test.subset$price[tree.class.test== 2])"
   ]
  },
  {
   "cell_type": "markdown",
   "metadata": {},
   "source": [
    "Calculate the $R^2$ for correctly classified and misclassified test samples. For the 5.22% classified samples, the $R^2$ is as poor as -0.7495, meaning that the predictions are even worse than the mean. The regressors seem to perform well on the correctly classified samples--the 0.8303 test $R^2$ is on par on the train $R^2$."
   ]
  },
  {
   "cell_type": "code",
   "execution_count": 186,
   "metadata": {
    "scrolled": true
   },
   "outputs": [
    {
     "data": {
      "text/html": [
       "0.830346311830431"
      ],
      "text/latex": [
       "0.830346311830431"
      ],
      "text/markdown": [
       "0.830346311830431"
      ],
      "text/plain": [
       "[1] 0.8303463"
      ]
     },
     "metadata": {},
     "output_type": "display_data"
    },
    {
     "data": {
      "text/html": [
       "-0.749487521301958"
      ],
      "text/latex": [
       "-0.749487521301958"
      ],
      "text/markdown": [
       "-0.749487521301958"
      ],
      "text/plain": [
       "[1] -0.7494875"
      ]
     },
     "metadata": {},
     "output_type": "display_data"
    }
   ],
   "source": [
    "# R2 for correctly-classified and mis-classified sets\n",
    "r2(tree.pred$yhat[tree.class.test == cr.pred.2$cluster], test.subset$price[tree.class.test == cr.pred.2$cluster])\n",
    "r2(tree.pred$yhat[tree.class.test != cr.pred.2$cluster], test.subset$price[tree.class.test != cr.pred.2$cluster])"
   ]
  },
  {
   "cell_type": "code",
   "execution_count": 203,
   "metadata": {
    "scrolled": true
   },
   "outputs": [
    {
     "name": "stdout",
     "output_type": "stream",
     "text": [
      "[1] \"Misclassification: 0.0522344063200094\"\n"
     ]
    }
   ],
   "source": [
    "print(paste0(\"Misclassification: \", sum(tree.class.test != cr.pred.2$cluster) / dim(test.subset)[1]))"
   ]
  },
  {
   "cell_type": "markdown",
   "metadata": {},
   "source": [
    "##### Feature Importance"
   ]
  },
  {
   "cell_type": "code",
   "execution_count": 258,
   "metadata": {
    "scrolled": false
   },
   "outputs": [
    {
     "data": {
      "text/html": [
       "<dl class=dl-horizontal>\n",
       "\t<dt>room_type</dt>\n",
       "\t\t<dd>39396546.5979827</dd>\n",
       "\t<dt>calculated_host_listings_count_private_rooms</dt>\n",
       "\t\t<dd>34767302.4958612</dd>\n",
       "\t<dt>calculated_host_listings_count_entire_homes</dt>\n",
       "\t\t<dd>32724175.4207227</dd>\n",
       "\t<dt>accommodates</dt>\n",
       "\t\t<dd>31116790.0339791</dd>\n",
       "\t<dt>beds</dt>\n",
       "\t\t<dd>21491432.1094926</dd>\n",
       "\t<dt>bedrooms</dt>\n",
       "\t\t<dd>21147781.2314747</dd>\n",
       "\t<dt>zipcode</dt>\n",
       "\t\t<dd>14622668.336509</dd>\n",
       "\t<dt>host_neighbourhood</dt>\n",
       "\t\t<dd>12812998.4025221</dd>\n",
       "\t<dt>neighbourhood_cleansed</dt>\n",
       "\t\t<dd>12089642.44669</dd>\n",
       "\t<dt>neighbourhood</dt>\n",
       "\t\t<dd>8733650.4925102</dd>\n",
       "\t<dt>bathrooms</dt>\n",
       "\t\t<dd>6037003.61236617</dd>\n",
       "\t<dt>street</dt>\n",
       "\t\t<dd>4739212.29984952</dd>\n",
       "\t<dt>neighbourhood_group_cleansed</dt>\n",
       "\t\t<dd>4437697.58189767</dd>\n",
       "\t<dt>guests_included</dt>\n",
       "\t\t<dd>3655883.73098412</dd>\n",
       "\t<dt>property_type</dt>\n",
       "\t\t<dd>1785723.85858011</dd>\n",
       "\t<dt>host_location</dt>\n",
       "\t\t<dd>1295862.46576696</dd>\n",
       "\t<dt>listings_nearby</dt>\n",
       "\t\t<dd>930213.555657609</dd>\n",
       "\t<dt>city</dt>\n",
       "\t\t<dd>238650.594367349</dd>\n",
       "\t<dt>host_since_day</dt>\n",
       "\t\t<dd>215675.869643479</dd>\n",
       "\t<dt>calculated_host_listings_count</dt>\n",
       "\t\t<dd>88926.1351388175</dd>\n",
       "\t<dt>host_listings_count</dt>\n",
       "\t\t<dd>53608.9939742058</dd>\n",
       "\t<dt>host_total_listings_count</dt>\n",
       "\t\t<dd>53608.9939742058</dd>\n",
       "\t<dt>instant_bookable</dt>\n",
       "\t\t<dd>46883.344934536</dd>\n",
       "\t<dt>review_scores_rating</dt>\n",
       "\t\t<dd>24414.6045450277</dd>\n",
       "</dl>\n"
      ],
      "text/latex": [
       "\\begin{description*}\n",
       "\\item[room\\textbackslash{}\\_type] 39396546.5979827\n",
       "\\item[calculated\\textbackslash{}\\_host\\textbackslash{}\\_listings\\textbackslash{}\\_count\\textbackslash{}\\_private\\textbackslash{}\\_rooms] 34767302.4958612\n",
       "\\item[calculated\\textbackslash{}\\_host\\textbackslash{}\\_listings\\textbackslash{}\\_count\\textbackslash{}\\_entire\\textbackslash{}\\_homes] 32724175.4207227\n",
       "\\item[accommodates] 31116790.0339791\n",
       "\\item[beds] 21491432.1094926\n",
       "\\item[bedrooms] 21147781.2314747\n",
       "\\item[zipcode] 14622668.336509\n",
       "\\item[host\\textbackslash{}\\_neighbourhood] 12812998.4025221\n",
       "\\item[neighbourhood\\textbackslash{}\\_cleansed] 12089642.44669\n",
       "\\item[neighbourhood] 8733650.4925102\n",
       "\\item[bathrooms] 6037003.61236617\n",
       "\\item[street] 4739212.29984952\n",
       "\\item[neighbourhood\\textbackslash{}\\_group\\textbackslash{}\\_cleansed] 4437697.58189767\n",
       "\\item[guests\\textbackslash{}\\_included] 3655883.73098412\n",
       "\\item[property\\textbackslash{}\\_type] 1785723.85858011\n",
       "\\item[host\\textbackslash{}\\_location] 1295862.46576696\n",
       "\\item[listings\\textbackslash{}\\_nearby] 930213.555657609\n",
       "\\item[city] 238650.594367349\n",
       "\\item[host\\textbackslash{}\\_since\\textbackslash{}\\_day] 215675.869643479\n",
       "\\item[calculated\\textbackslash{}\\_host\\textbackslash{}\\_listings\\textbackslash{}\\_count] 88926.1351388175\n",
       "\\item[host\\textbackslash{}\\_listings\\textbackslash{}\\_count] 53608.9939742058\n",
       "\\item[host\\textbackslash{}\\_total\\textbackslash{}\\_listings\\textbackslash{}\\_count] 53608.9939742058\n",
       "\\item[instant\\textbackslash{}\\_bookable] 46883.344934536\n",
       "\\item[review\\textbackslash{}\\_scores\\textbackslash{}\\_rating] 24414.6045450277\n",
       "\\end{description*}\n"
      ],
      "text/markdown": [
       "room_type\n",
       ":   39396546.5979827calculated_host_listings_count_private_rooms\n",
       ":   34767302.4958612calculated_host_listings_count_entire_homes\n",
       ":   32724175.4207227accommodates\n",
       ":   31116790.0339791beds\n",
       ":   21491432.1094926bedrooms\n",
       ":   21147781.2314747zipcode\n",
       ":   14622668.336509host_neighbourhood\n",
       ":   12812998.4025221neighbourhood_cleansed\n",
       ":   12089642.44669neighbourhood\n",
       ":   8733650.4925102bathrooms\n",
       ":   6037003.61236617street\n",
       ":   4739212.29984952neighbourhood_group_cleansed\n",
       ":   4437697.58189767guests_included\n",
       ":   3655883.73098412property_type\n",
       ":   1785723.85858011host_location\n",
       ":   1295862.46576696listings_nearby\n",
       ":   930213.555657609city\n",
       ":   238650.594367349host_since_day\n",
       ":   215675.869643479calculated_host_listings_count\n",
       ":   88926.1351388175host_listings_count\n",
       ":   53608.9939742058host_total_listings_count\n",
       ":   53608.9939742058instant_bookable\n",
       ":   46883.344934536review_scores_rating\n",
       ":   24414.6045450277\n",
       "\n"
      ],
      "text/plain": [
       "                                   room_type \n",
       "                                 39396546.60 \n",
       "calculated_host_listings_count_private_rooms \n",
       "                                 34767302.50 \n",
       " calculated_host_listings_count_entire_homes \n",
       "                                 32724175.42 \n",
       "                                accommodates \n",
       "                                 31116790.03 \n",
       "                                        beds \n",
       "                                 21491432.11 \n",
       "                                    bedrooms \n",
       "                                 21147781.23 \n",
       "                                     zipcode \n",
       "                                 14622668.34 \n",
       "                          host_neighbourhood \n",
       "                                 12812998.40 \n",
       "                      neighbourhood_cleansed \n",
       "                                 12089642.45 \n",
       "                               neighbourhood \n",
       "                                  8733650.49 \n",
       "                                   bathrooms \n",
       "                                  6037003.61 \n",
       "                                      street \n",
       "                                  4739212.30 \n",
       "                neighbourhood_group_cleansed \n",
       "                                  4437697.58 \n",
       "                             guests_included \n",
       "                                  3655883.73 \n",
       "                               property_type \n",
       "                                  1785723.86 \n",
       "                               host_location \n",
       "                                  1295862.47 \n",
       "                             listings_nearby \n",
       "                                   930213.56 \n",
       "                                        city \n",
       "                                   238650.59 \n",
       "                              host_since_day \n",
       "                                   215675.87 \n",
       "              calculated_host_listings_count \n",
       "                                    88926.14 \n",
       "                         host_listings_count \n",
       "                                    53608.99 \n",
       "                   host_total_listings_count \n",
       "                                    53608.99 \n",
       "                            instant_bookable \n",
       "                                    46883.34 \n",
       "                        review_scores_rating \n",
       "                                    24414.60 "
      ]
     },
     "metadata": {},
     "output_type": "display_data"
    }
   ],
   "source": [
    "# Regressor 1\n",
    "cr.2$results[[1]]$variable.importance"
   ]
  },
  {
   "cell_type": "markdown",
   "metadata": {},
   "source": [
    "Feature importance of the cluster 2 regressor"
   ]
  },
  {
   "cell_type": "code",
   "execution_count": 251,
   "metadata": {
    "scrolled": false
   },
   "outputs": [
    {
     "data": {
      "text/html": [
       "<dl class=dl-horizontal>\n",
       "\t<dt>zipcode</dt>\n",
       "\t\t<dd>22654653.5369851</dd>\n",
       "\t<dt>neighbourhood_cleansed</dt>\n",
       "\t\t<dd>17841411.7577601</dd>\n",
       "\t<dt>bedrooms</dt>\n",
       "\t\t<dd>15126827.7760725</dd>\n",
       "\t<dt>host_neighbourhood</dt>\n",
       "\t\t<dd>15112671.6995411</dd>\n",
       "\t<dt>neighbourhood</dt>\n",
       "\t\t<dd>12287773.0762605</dd>\n",
       "\t<dt>accommodates</dt>\n",
       "\t\t<dd>9273866.7346076</dd>\n",
       "\t<dt>beds</dt>\n",
       "\t\t<dd>6671255.97208536</dd>\n",
       "\t<dt>listings_nearby</dt>\n",
       "\t\t<dd>5870358.26917306</dd>\n",
       "\t<dt>neighbourhood_group_cleansed</dt>\n",
       "\t\t<dd>5458072.10822398</dd>\n",
       "\t<dt>guests_included</dt>\n",
       "\t\t<dd>5262685.10236428</dd>\n",
       "\t<dt>bathrooms</dt>\n",
       "\t\t<dd>3722248.38230214</dd>\n",
       "\t<dt>host_location</dt>\n",
       "\t\t<dd>1287016.90381307</dd>\n",
       "\t<dt>room_type</dt>\n",
       "\t\t<dd>776587.542618176</dd>\n",
       "\t<dt>street</dt>\n",
       "\t\t<dd>760290.359776293</dd>\n",
       "\t<dt>calculated_host_listings_count_private_rooms</dt>\n",
       "\t\t<dd>680278.457608442</dd>\n",
       "\t<dt>calculated_host_listings_count_entire_homes</dt>\n",
       "\t\t<dd>573268.363153181</dd>\n",
       "\t<dt>city</dt>\n",
       "\t\t<dd>391027.57504971</dd>\n",
       "\t<dt>property_type</dt>\n",
       "\t\t<dd>36689.1752418037</dd>\n",
       "</dl>\n"
      ],
      "text/latex": [
       "\\begin{description*}\n",
       "\\item[zipcode] 22654653.5369851\n",
       "\\item[neighbourhood\\textbackslash{}\\_cleansed] 17841411.7577601\n",
       "\\item[bedrooms] 15126827.7760725\n",
       "\\item[host\\textbackslash{}\\_neighbourhood] 15112671.6995411\n",
       "\\item[neighbourhood] 12287773.0762605\n",
       "\\item[accommodates] 9273866.7346076\n",
       "\\item[beds] 6671255.97208536\n",
       "\\item[listings\\textbackslash{}\\_nearby] 5870358.26917306\n",
       "\\item[neighbourhood\\textbackslash{}\\_group\\textbackslash{}\\_cleansed] 5458072.10822398\n",
       "\\item[guests\\textbackslash{}\\_included] 5262685.10236428\n",
       "\\item[bathrooms] 3722248.38230214\n",
       "\\item[host\\textbackslash{}\\_location] 1287016.90381307\n",
       "\\item[room\\textbackslash{}\\_type] 776587.542618176\n",
       "\\item[street] 760290.359776293\n",
       "\\item[calculated\\textbackslash{}\\_host\\textbackslash{}\\_listings\\textbackslash{}\\_count\\textbackslash{}\\_private\\textbackslash{}\\_rooms] 680278.457608442\n",
       "\\item[calculated\\textbackslash{}\\_host\\textbackslash{}\\_listings\\textbackslash{}\\_count\\textbackslash{}\\_entire\\textbackslash{}\\_homes] 573268.363153181\n",
       "\\item[city] 391027.57504971\n",
       "\\item[property\\textbackslash{}\\_type] 36689.1752418037\n",
       "\\end{description*}\n"
      ],
      "text/markdown": [
       "zipcode\n",
       ":   22654653.5369851neighbourhood_cleansed\n",
       ":   17841411.7577601bedrooms\n",
       ":   15126827.7760725host_neighbourhood\n",
       ":   15112671.6995411neighbourhood\n",
       ":   12287773.0762605accommodates\n",
       ":   9273866.7346076beds\n",
       ":   6671255.97208536listings_nearby\n",
       ":   5870358.26917306neighbourhood_group_cleansed\n",
       ":   5458072.10822398guests_included\n",
       ":   5262685.10236428bathrooms\n",
       ":   3722248.38230214host_location\n",
       ":   1287016.90381307room_type\n",
       ":   776587.542618176street\n",
       ":   760290.359776293calculated_host_listings_count_private_rooms\n",
       ":   680278.457608442calculated_host_listings_count_entire_homes\n",
       ":   573268.363153181city\n",
       ":   391027.57504971property_type\n",
       ":   36689.1752418037\n",
       "\n"
      ],
      "text/plain": [
       "                                     zipcode \n",
       "                                 22654653.54 \n",
       "                      neighbourhood_cleansed \n",
       "                                 17841411.76 \n",
       "                                    bedrooms \n",
       "                                 15126827.78 \n",
       "                          host_neighbourhood \n",
       "                                 15112671.70 \n",
       "                               neighbourhood \n",
       "                                 12287773.08 \n",
       "                                accommodates \n",
       "                                  9273866.73 \n",
       "                                        beds \n",
       "                                  6671255.97 \n",
       "                             listings_nearby \n",
       "                                  5870358.27 \n",
       "                neighbourhood_group_cleansed \n",
       "                                  5458072.11 \n",
       "                             guests_included \n",
       "                                  5262685.10 \n",
       "                                   bathrooms \n",
       "                                  3722248.38 \n",
       "                               host_location \n",
       "                                  1287016.90 \n",
       "                                   room_type \n",
       "                                   776587.54 \n",
       "                                      street \n",
       "                                   760290.36 \n",
       "calculated_host_listings_count_private_rooms \n",
       "                                   680278.46 \n",
       " calculated_host_listings_count_entire_homes \n",
       "                                   573268.36 \n",
       "                                        city \n",
       "                                   391027.58 \n",
       "                               property_type \n",
       "                                    36689.18 "
      ]
     },
     "metadata": {},
     "output_type": "display_data"
    }
   ],
   "source": [
    "# Regressor 2\n",
    "cr.2$results[[2]]$variable.importance"
   ]
  },
  {
   "cell_type": "code",
   "execution_count": 213,
   "metadata": {
    "scrolled": true
   },
   "outputs": [
    {
     "data": {
      "text/html": [
       "<table>\n",
       "<thead><tr><th scope=col>id</th><th scope=col>pred.price</th><th scope=col>pred.class</th><th scope=col>true.price</th><th scope=col>true.class</th></tr></thead>\n",
       "<tbody>\n",
       "\t<tr><td> 7322   </td><td>84.66428</td><td>1       </td><td>120     </td><td>1       </td></tr>\n",
       "\t<tr><td> 9782   </td><td>84.66428</td><td>1       </td><td> 55     </td><td>1       </td></tr>\n",
       "\t<tr><td> 9783   </td><td>51.96563</td><td>1       </td><td> 50     </td><td>1       </td></tr>\n",
       "\t<tr><td>11174   </td><td>91.51378</td><td>2       </td><td> 98     </td><td>2       </td></tr>\n",
       "\t<tr><td>11708   </td><td>91.51378</td><td>2       </td><td> 85     </td><td>2       </td></tr>\n",
       "\t<tr><td>12192   </td><td>84.66428</td><td>1       </td><td> 68     </td><td>1       </td></tr>\n",
       "</tbody>\n",
       "</table>\n"
      ],
      "text/latex": [
       "\\begin{tabular}{r|lllll}\n",
       " id & pred.price & pred.class & true.price & true.class\\\\\n",
       "\\hline\n",
       "\t  7322    & 84.66428 & 1        & 120      & 1       \\\\\n",
       "\t  9782    & 84.66428 & 1        &  55      & 1       \\\\\n",
       "\t  9783    & 51.96563 & 1        &  50      & 1       \\\\\n",
       "\t 11174    & 91.51378 & 2        &  98      & 2       \\\\\n",
       "\t 11708    & 91.51378 & 2        &  85      & 2       \\\\\n",
       "\t 12192    & 84.66428 & 1        &  68      & 1       \\\\\n",
       "\\end{tabular}\n"
      ],
      "text/markdown": [
       "\n",
       "id | pred.price | pred.class | true.price | true.class | \n",
       "|---|---|---|---|---|---|\n",
       "|  7322    | 84.66428 | 1        | 120      | 1        | \n",
       "|  9782    | 84.66428 | 1        |  55      | 1        | \n",
       "|  9783    | 51.96563 | 1        |  50      | 1        | \n",
       "| 11174    | 91.51378 | 2        |  98      | 2        | \n",
       "| 11708    | 91.51378 | 2        |  85      | 2        | \n",
       "| 12192    | 84.66428 | 1        |  68      | 1        | \n",
       "\n",
       "\n"
      ],
      "text/plain": [
       "  id    pred.price pred.class true.price true.class\n",
       "1  7322 84.66428   1          120        1         \n",
       "2  9782 84.66428   1           55        1         \n",
       "3  9783 51.96563   1           50        1         \n",
       "4 11174 91.51378   2           98        2         \n",
       "5 11708 91.51378   2           85        2         \n",
       "6 12192 84.66428   1           68        1         "
      ]
     },
     "metadata": {},
     "output_type": "display_data"
    }
   ],
   "source": [
    "# save model\n",
    "#saveRDS(cr.6, paste0(path, \"clustertree6-std.rds\"))\n",
    "# save prediction\n",
    "prediction.export <- data.frame(cbind(test.set$id, tree.pred$yhat, tree.class.test, test.set$price, cr.pred.2$cluster))\n",
    "colnames(prediction.export) <- c(\"id\", \"pred.price\", 'pred.class', 'true.price', 'true.class')\n",
    "write.csv(prediction.export, paste0(path, 'clustertree2_prediction-std-correct-73.csv'), row.names = FALSE)\n",
    "head(prediction.export)"
   ]
  },
  {
   "cell_type": "code",
   "execution_count": 78,
   "metadata": {},
   "outputs": [
    {
     "data": {
      "text/html": [
       "<table>\n",
       "<thead><tr><th scope=col>id</th><th scope=col>pred.price</th><th scope=col>pred.class</th><th scope=col>true.price</th><th scope=col>true.class</th></tr></thead>\n",
       "<tbody>\n",
       "\t<tr><td> 7322   </td><td>93.26558</td><td>1       </td><td>120     </td><td>1       </td></tr>\n",
       "\t<tr><td> 9782   </td><td>77.77585</td><td>1       </td><td> 55     </td><td>1       </td></tr>\n",
       "\t<tr><td> 9783   </td><td>52.48320</td><td>1       </td><td> 50     </td><td>1       </td></tr>\n",
       "\t<tr><td>11174   </td><td>90.85484</td><td>2       </td><td> 98     </td><td>2       </td></tr>\n",
       "\t<tr><td>11708   </td><td>90.85484</td><td>2       </td><td> 85     </td><td>2       </td></tr>\n",
       "\t<tr><td>12192   </td><td>77.77585</td><td>1       </td><td> 68     </td><td>1       </td></tr>\n",
       "</tbody>\n",
       "</table>\n"
      ],
      "text/latex": [
       "\\begin{tabular}{r|lllll}\n",
       " id & pred.price & pred.class & true.price & true.class\\\\\n",
       "\\hline\n",
       "\t  7322    & 93.26558 & 1        & 120      & 1       \\\\\n",
       "\t  9782    & 77.77585 & 1        &  55      & 1       \\\\\n",
       "\t  9783    & 52.48320 & 1        &  50      & 1       \\\\\n",
       "\t 11174    & 90.85484 & 2        &  98      & 2       \\\\\n",
       "\t 11708    & 90.85484 & 2        &  85      & 2       \\\\\n",
       "\t 12192    & 77.77585 & 1        &  68      & 1       \\\\\n",
       "\\end{tabular}\n"
      ],
      "text/markdown": [
       "\n",
       "id | pred.price | pred.class | true.price | true.class | \n",
       "|---|---|---|---|---|---|\n",
       "|  7322    | 93.26558 | 1        | 120      | 1        | \n",
       "|  9782    | 77.77585 | 1        |  55      | 1        | \n",
       "|  9783    | 52.48320 | 1        |  50      | 1        | \n",
       "| 11174    | 90.85484 | 2        |  98      | 2        | \n",
       "| 11708    | 90.85484 | 2        |  85      | 2        | \n",
       "| 12192    | 77.77585 | 1        |  68      | 1        | \n",
       "\n",
       "\n"
      ],
      "text/plain": [
       "  id    pred.price pred.class true.price true.class\n",
       "1  7322 93.26558   1          120        1         \n",
       "2  9782 77.77585   1           55        1         \n",
       "3  9783 52.48320   1           50        1         \n",
       "4 11174 90.85484   2           98        2         \n",
       "5 11708 90.85484   2           85        2         \n",
       "6 12192 77.77585   1           68        1         "
      ]
     },
     "metadata": {},
     "output_type": "display_data"
    }
   ],
   "source": [
    "head(prediction.export[prediction.export$pred.class == prediction.export$true.class,])"
   ]
  }
 ],
 "metadata": {
  "kernelspec": {
   "display_name": "R",
   "language": "R",
   "name": "ir"
  },
  "language_info": {
   "codemirror_mode": "r",
   "file_extension": ".r",
   "mimetype": "text/x-r-source",
   "name": "R",
   "pygments_lexer": "r",
   "version": "3.4.2"
  }
 },
 "nbformat": 4,
 "nbformat_minor": 4
}
